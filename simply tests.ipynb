{
 "cells": [
  {
   "cell_type": "markdown",
   "id": "9b24929d",
   "metadata": {},
   "source": [
    "# Простые тесты на работоспособоность"
   ]
  },
  {
   "cell_type": "code",
   "execution_count": 2,
   "id": "c829f11e",
   "metadata": {},
   "outputs": [],
   "source": [
    "from Sampler_all import *"
   ]
  },
  {
   "cell_type": "markdown",
   "id": "f45943cc",
   "metadata": {},
   "source": [
    "### 1. Генерация унитарной матрицы"
   ]
  },
  {
   "cell_type": "code",
   "execution_count": 10,
   "id": "9a7ea9e9",
   "metadata": {},
   "outputs": [
    {
     "data": {
      "text/plain": [
       "True"
      ]
     },
     "execution_count": 10,
     "metadata": {},
     "output_type": "execute_result"
    }
   ],
   "source": [
    "#Проверка на унитарность\n",
    "U = haar_measure(5)\n",
    "Ones = np.diag(np.array([1]*5, dtype=np.complex128))\n",
    "np.allclose(U @ np.conj(U.T), Ones)"
   ]
  },
  {
   "cell_type": "markdown",
   "id": "c34911ae",
   "metadata": {},
   "source": [
    "### 2. Вычисление перманента"
   ]
  },
  {
   "cell_type": "code",
   "execution_count": 16,
   "id": "22ea00b5",
   "metadata": {},
   "outputs": [],
   "source": [
    "from sympy import *\n",
    "#сравним с sympy"
   ]
  },
  {
   "cell_type": "code",
   "execution_count": 21,
   "id": "59bcfe5c",
   "metadata": {},
   "outputs": [
    {
     "name": "stdout",
     "output_type": "stream",
     "text": [
      "CPU times: user 622 ms, sys: 4.11 ms, total: 626 ms\n",
      "Wall time: 624 ms\n"
     ]
    }
   ],
   "source": [
    "%%time\n",
    "A1 = Matrix(U).per() # метод sympy"
   ]
  },
  {
   "cell_type": "code",
   "execution_count": 22,
   "id": "6123f07d",
   "metadata": {},
   "outputs": [
    {
     "name": "stdout",
     "output_type": "stream",
     "text": [
      "CPU times: user 313 µs, sys: 1e+03 ns, total: 314 µs\n",
      "Wall time: 321 µs\n"
     ]
    }
   ],
   "source": [
    "%%time\n",
    "A2 = calculate_permanent(U)"
   ]
  },
  {
   "cell_type": "code",
   "execution_count": 25,
   "id": "e1b1a07e",
   "metadata": {},
   "outputs": [
    {
     "data": {
      "text/latex": [
       "$\\displaystyle -1.11022302462516 \\cdot 10^{-16} + 2.77555756156289 \\cdot 10^{-17} i$"
      ],
      "text/plain": [
       "-1.11022302462516e-16 + 2.77555756156289e-17*I"
      ]
     },
     "execution_count": 25,
     "metadata": {},
     "output_type": "execute_result"
    }
   ],
   "source": [
    "A1 - A2"
   ]
  },
  {
   "cell_type": "markdown",
   "id": "dcadc705",
   "metadata": {},
   "source": [
    "### 3. Вычисление полного распределения"
   ]
  },
  {
   "cell_type": "code",
   "execution_count": 26,
   "id": "ee0b1b49",
   "metadata": {},
   "outputs": [],
   "source": [
    "smp = Sampler(4, 2)"
   ]
  },
  {
   "cell_type": "code",
   "execution_count": 29,
   "id": "c0af78f4",
   "metadata": {},
   "outputs": [
    {
     "data": {
      "text/plain": [
       "0.9999999999999996"
      ]
     },
     "execution_count": 29,
     "metadata": {},
     "output_type": "execute_result"
    }
   ],
   "source": [
    "#Проверка на нормировку\n",
    "p = smp.eval_density()\n",
    "np.sum(p)"
   ]
  },
  {
   "cell_type": "code",
   "execution_count": 39,
   "id": "43a48d71",
   "metadata": {},
   "outputs": [],
   "source": [
    "#выборка\n",
    "d1 = smp.sample_from_density(smp.density, 100)"
   ]
  },
  {
   "cell_type": "code",
   "execution_count": 41,
   "id": "27d18bcd",
   "metadata": {},
   "outputs": [
    {
     "data": {
      "text/plain": [
       "0.981068648218604"
      ]
     },
     "execution_count": 41,
     "metadata": {},
     "output_type": "execute_result"
    }
   ],
   "source": [
    "#Fidelity\n",
    "smp.check_sample_coef(d1)"
   ]
  },
  {
   "cell_type": "markdown",
   "id": "fe902705",
   "metadata": {},
   "source": [
    "### Генерация с помощью MCMC"
   ]
  },
  {
   "cell_type": "code",
   "execution_count": 38,
   "id": "b79f9753",
   "metadata": {},
   "outputs": [],
   "source": [
    "d2 = smp.sample_mis(100, 100, 50)"
   ]
  },
  {
   "cell_type": "code",
   "execution_count": 42,
   "id": "b4ad0257",
   "metadata": {},
   "outputs": [
    {
     "data": {
      "text/plain": [
       "0.9870914852702204"
      ]
     },
     "execution_count": 42,
     "metadata": {},
     "output_type": "execute_result"
    }
   ],
   "source": [
    "smp.check_sample_coef(d2)"
   ]
  },
  {
   "cell_type": "markdown",
   "id": "02739b20",
   "metadata": {},
   "source": [
    "### Тензор распределения"
   ]
  },
  {
   "cell_type": "code",
   "execution_count": 52,
   "id": "318e9197",
   "metadata": {},
   "outputs": [
    {
     "name": "stderr",
     "output_type": "stream",
     "text": [
      "100%|██████████| 10/10 [00:00<00:00, 451.77it/s]\n"
     ]
    }
   ],
   "source": [
    "smp.do_MPS_prepare()"
   ]
  },
  {
   "cell_type": "code",
   "execution_count": 53,
   "id": "8397f556",
   "metadata": {},
   "outputs": [],
   "source": [
    "all_states = gen_output_states(4, 2)"
   ]
  },
  {
   "cell_type": "code",
   "execution_count": 54,
   "id": "c62b3493",
   "metadata": {},
   "outputs": [],
   "source": [
    "p_tt = []\n",
    "p_ideal = []\n",
    "for state in all_states:\n",
    "    p_tt.append(np.abs(smp.mps.get_element(state))**2)\n",
    "    p_ideal.append(smp.pr(state))"
   ]
  },
  {
   "cell_type": "code",
   "execution_count": 55,
   "id": "16bc540d",
   "metadata": {},
   "outputs": [
    {
     "data": {
      "text/plain": [
       "True"
      ]
     },
     "execution_count": 55,
     "metadata": {},
     "output_type": "execute_result"
    }
   ],
   "source": [
    "np.allclose(p_tt, p_ideal)"
   ]
  },
  {
   "cell_type": "markdown",
   "id": "01dc4467",
   "metadata": {},
   "source": [
    "### Генерация с помощью TT"
   ]
  },
  {
   "cell_type": "code",
   "execution_count": 56,
   "id": "77778061",
   "metadata": {},
   "outputs": [
    {
     "name": "stderr",
     "output_type": "stream",
     "text": [
      "100%|██████████| 100/100 [00:00<00:00, 1488.89it/s]\n"
     ]
    }
   ],
   "source": [
    "d3 = smp.sample_mps(100)"
   ]
  },
  {
   "cell_type": "code",
   "execution_count": 57,
   "id": "01eb12f2",
   "metadata": {},
   "outputs": [
    {
     "data": {
      "text/plain": [
       "0.9893278134520775"
      ]
     },
     "execution_count": 57,
     "metadata": {},
     "output_type": "execute_result"
    }
   ],
   "source": [
    "smp.check_sample_coef(d3)"
   ]
  },
  {
   "cell_type": "code",
   "execution_count": null,
   "id": "0f643fc5",
   "metadata": {},
   "outputs": [],
   "source": []
  }
 ],
 "metadata": {
  "kernelspec": {
   "display_name": "Python 3 (ipykernel)",
   "language": "python",
   "name": "python3"
  },
  "language_info": {
   "codemirror_mode": {
    "name": "ipython",
    "version": 3
   },
   "file_extension": ".py",
   "mimetype": "text/x-python",
   "name": "python",
   "nbconvert_exporter": "python",
   "pygments_lexer": "ipython3",
   "version": "3.9.5"
  }
 },
 "nbformat": 4,
 "nbformat_minor": 5
}
